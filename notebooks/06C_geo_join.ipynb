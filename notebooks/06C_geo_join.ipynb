{
 "cells": [
  {
   "cell_type": "code",
   "execution_count": 1,
   "id": "012b1892",
   "metadata": {},
   "outputs": [
    {
     "name": "stdout",
     "output_type": "stream",
     "text": [
      "Using polygons: ../data/processed/zones.geojson\n",
      "Expecting suitability file: ../data/processed/suitability_solar.parquet\n"
     ]
    }
   ],
   "source": [
    "import os\n",
    "import pandas as pd\n",
    "import geopandas as gpd\n",
    "\n",
    "# Inputs\n",
    "SUIT = \"../data/processed/suitability_solar.parquet\"   # from 06A (re-run that first!)\n",
    "CANDIDATE_GEO = [\n",
    "    \"../data/geo/bengaluru_zones.geojson\",             # preferred location\n",
    "    \"../data/processed/zones.geojson\",                 # you have this in your repo screenshots\n",
    "]\n",
    "\n",
    "# Output\n",
    "OUT_GEO_PARQUET = \"../data/processed/suitability_solar_geo.parquet\"\n",
    "OUT_CENTROIDS   = \"../data/processed/zone_centroids.parquet\"\n",
    "\n",
    "# Locate a polygon file\n",
    "geo_path = None\n",
    "for p in CANDIDATE_GEO:\n",
    "    if os.path.exists(p):\n",
    "        geo_path = p\n",
    "        break\n",
    "\n",
    "if geo_path is None:\n",
    "    raise FileNotFoundError(\n",
    "        \"Could not find a zones GeoJSON. Put one at \"\n",
    "        \"`data/geo/bengaluru_zones.geojson` or `data/processed/zones.geojson`.\"\n",
    "    )\n",
    "\n",
    "print(\"Using polygons:\", geo_path)\n",
    "print(\"Expecting suitability file:\", SUIT)\n"
   ]
  },
  {
   "cell_type": "code",
   "execution_count": 2,
   "id": "0b1dc453",
   "metadata": {},
   "outputs": [
    {
     "name": "stdout",
     "output_type": "stream",
     "text": [
      "Suitability rows: (223, 4) | Polygons: (223, 5)\n"
     ]
    },
    {
     "data": {
      "text/html": [
       "<div>\n",
       "<style scoped>\n",
       "    .dataframe tbody tr th:only-of-type {\n",
       "        vertical-align: middle;\n",
       "    }\n",
       "\n",
       "    .dataframe tbody tr th {\n",
       "        vertical-align: top;\n",
       "    }\n",
       "\n",
       "    .dataframe thead th {\n",
       "        text-align: right;\n",
       "    }\n",
       "</style>\n",
       "<table border=\"1\" class=\"dataframe\">\n",
       "  <thead>\n",
       "    <tr style=\"text-align: right;\">\n",
       "      <th></th>\n",
       "      <th>ZoneID</th>\n",
       "      <th>annual_kwh</th>\n",
       "      <th>score_0_100</th>\n",
       "      <th>score_source</th>\n",
       "    </tr>\n",
       "  </thead>\n",
       "  <tbody>\n",
       "    <tr>\n",
       "      <th>0</th>\n",
       "      <td>BLR-0001</td>\n",
       "      <td>14691.605469</td>\n",
       "      <td>0</td>\n",
       "      <td>model_pred</td>\n",
       "    </tr>\n",
       "    <tr>\n",
       "      <th>1</th>\n",
       "      <td>BLR-0002</td>\n",
       "      <td>14692.210938</td>\n",
       "      <td>0</td>\n",
       "      <td>model_pred</td>\n",
       "    </tr>\n",
       "    <tr>\n",
       "      <th>2</th>\n",
       "      <td>BLR-0003</td>\n",
       "      <td>14693.567383</td>\n",
       "      <td>0</td>\n",
       "      <td>model_pred</td>\n",
       "    </tr>\n",
       "  </tbody>\n",
       "</table>\n",
       "</div>"
      ],
      "text/plain": [
       "     ZoneID    annual_kwh  score_0_100 score_source\n",
       "0  BLR-0001  14691.605469            0   model_pred\n",
       "1  BLR-0002  14692.210938            0   model_pred\n",
       "2  BLR-0003  14693.567383            0   model_pred"
      ]
     },
     "metadata": {},
     "output_type": "display_data"
    },
    {
     "data": {
      "text/html": [
       "<div>\n",
       "<style scoped>\n",
       "    .dataframe tbody tr th:only-of-type {\n",
       "        vertical-align: middle;\n",
       "    }\n",
       "\n",
       "    .dataframe tbody tr th {\n",
       "        vertical-align: top;\n",
       "    }\n",
       "\n",
       "    .dataframe thead th {\n",
       "        text-align: right;\n",
       "    }\n",
       "</style>\n",
       "<table border=\"1\" class=\"dataframe\">\n",
       "  <thead>\n",
       "    <tr style=\"text-align: right;\">\n",
       "      <th></th>\n",
       "      <th>ZoneID</th>\n",
       "      <th>centroid_lat</th>\n",
       "      <th>centroid_lon</th>\n",
       "      <th>Region8</th>\n",
       "      <th>geometry</th>\n",
       "    </tr>\n",
       "  </thead>\n",
       "  <tbody>\n",
       "    <tr>\n",
       "      <th>0</th>\n",
       "      <td>BLR-0001</td>\n",
       "      <td>12.880317</td>\n",
       "      <td>77.476772</td>\n",
       "      <td>SW</td>\n",
       "      <td>POLYGON ((77.47802 12.87801, 77.47775 12.87814...</td>\n",
       "    </tr>\n",
       "    <tr>\n",
       "      <th>1</th>\n",
       "      <td>BLR-0002</td>\n",
       "      <td>12.898733</td>\n",
       "      <td>77.469049</td>\n",
       "      <td>SW</td>\n",
       "      <td>POLYGON ((77.47802 12.90369, 77.47802 12.89288...</td>\n",
       "    </tr>\n",
       "  </tbody>\n",
       "</table>\n",
       "</div>"
      ],
      "text/plain": [
       "     ZoneID  centroid_lat  centroid_lon Region8  \\\n",
       "0  BLR-0001     12.880317     77.476772      SW   \n",
       "1  BLR-0002     12.898733     77.469049      SW   \n",
       "\n",
       "                                            geometry  \n",
       "0  POLYGON ((77.47802 12.87801, 77.47775 12.87814...  \n",
       "1  POLYGON ((77.47802 12.90369, 77.47802 12.89288...  "
      ]
     },
     "metadata": {},
     "output_type": "display_data"
    }
   ],
   "source": [
    "# Suitability (ZoneID, annual_kwh, score_0_100, score_source)\n",
    "suit = pd.read_parquet(SUIT)\n",
    "\n",
    "# Polygons (must contain ZoneID)\n",
    "gdf = gpd.read_file(geo_path)\n",
    "\n",
    "# Normalize ZoneID types (strings)\n",
    "suit[\"ZoneID\"] = suit[\"ZoneID\"].astype(str)\n",
    "gdf[\"ZoneID\"]  = gdf[\"ZoneID\"].astype(str)\n",
    "\n",
    "print(\"Suitability rows:\", suit.shape, \"| Polygons:\", gdf.shape)\n",
    "display(suit.head(3))\n",
    "display(gdf.head(2))\n"
   ]
  },
  {
   "cell_type": "code",
   "execution_count": 3,
   "id": "a8fab5cd",
   "metadata": {},
   "outputs": [
    {
     "name": "stdout",
     "output_type": "stream",
     "text": [
      "Zones without scores: 0 out of 223\n"
     ]
    }
   ],
   "source": [
    "merged = gdf.merge(suit, on=\"ZoneID\", how=\"left\")\n",
    "\n",
    "missing = merged[\"annual_kwh\"].isna().sum()\n",
    "print(f\"Zones without scores: {missing} out of {len(merged)}\")\n",
    "\n",
    "if missing > 0:\n",
    "    missing_ids = merged.loc[merged[\"annual_kwh\"].isna(), \"ZoneID\"].head(10).tolist()\n",
    "    print(\"Sample missing ZoneIDs:\", missing_ids)\n"
   ]
  },
  {
   "cell_type": "code",
   "execution_count": 4,
   "id": "577dcc63",
   "metadata": {},
   "outputs": [
    {
     "name": "stdout",
     "output_type": "stream",
     "text": [
      "✅ Saved: ../data/processed/suitability_solar_geo.parquet\n",
      "✅ Saved: ../data/processed/zone_centroids.parquet\n"
     ]
    },
    {
     "name": "stderr",
     "output_type": "stream",
     "text": [
      "/var/folders/dy/m8k3w5n10rg7xhthbf5pxwyr0000gn/T/ipykernel_49748/762771265.py:11: UserWarning: Geometry is in a geographic CRS. Results from 'centroid' are likely incorrect. Use 'GeoSeries.to_crs()' to re-project geometries to a projected CRS before this operation.\n",
      "\n",
      "  centroids[\"geometry\"] = centroids.geometry.centroid\n"
     ]
    }
   ],
   "source": [
    "# Ensure WGS84 for app mapping\n",
    "if merged.crs is None or merged.crs.to_epsg() != 4326:\n",
    "    merged = merged.to_crs(4326)\n",
    "\n",
    "os.makedirs(os.path.dirname(OUT_GEO_PARQUET), exist_ok=True)\n",
    "merged.to_parquet(OUT_GEO_PARQUET, index=False)\n",
    "print(\"✅ Saved:\", OUT_GEO_PARQUET)\n",
    "\n",
    "# Also export centroids (useful for nearest-zone fallback / debugging)\n",
    "centroids = merged.copy()\n",
    "centroids[\"geometry\"] = centroids.geometry.centroid\n",
    "centroids[\"lat\"] = centroids.geometry.y\n",
    "centroids[\"lon\"] = centroids.geometry.x\n",
    "centroids = centroids[[\"ZoneID\",\"lat\",\"lon\"]]\n",
    "centroids.to_parquet(OUT_CENTROIDS, index=False)\n",
    "print(\"✅ Saved:\", OUT_CENTROIDS)\n"
   ]
  },
  {
   "cell_type": "code",
   "execution_count": 5,
   "id": "d4b6c07b",
   "metadata": {},
   "outputs": [
    {
     "data": {
      "image/png": "[encoded data removed]",
      "text/plain": [
       "<Figure size 800x800 with 2 Axes>"
      ]
     },
     "metadata": {},
     "output_type": "display_data"
    }
   ],
   "source": [
    "ax = merged.plot(column=\"score_0_100\", cmap=\"YlOrRd\", legend=True, figsize=(8,8), linewidth=0.2, edgecolor=\"grey\")\n",
    "ax.set_title(\"Bengaluru — Solar Suitability (0–100)\")\n",
    "ax.set_axis_off()\n"
   ]
  },
  {
   "cell_type": "code",
   "execution_count": null,
   "id": "899e9517",
   "metadata": {},
   "outputs": [],
   "source": []
  }
 ],
 "metadata": {
  "kernelspec": {
   "display_name": ".venv",
   "language": "python",
   "name": "python3"
  },
  "language_info": {
   "codemirror_mode": {
    "name": "ipython",
    "version": 3
   },
   "file_extension": ".py",
   "mimetype": "text/x-python",
   "name": "python",
   "nbconvert_exporter": "python",
   "pygments_lexer": "ipython3",
   "version": "3.12.6"
  }
 },
 "nbformat": 4,
 "nbformat_minor": 5
}
